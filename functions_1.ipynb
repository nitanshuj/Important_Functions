{
 "cells": [
  {
   "cell_type": "code",
   "execution_count": 2,
   "metadata": {},
   "outputs": [],
   "source": [
    "import pandas as pd\n",
    "import numpy as np"
   ]
  },
  {
   "cell_type": "code",
   "execution_count": null,
   "metadata": {},
   "outputs": [],
   "source": [
    "# References:\n",
    "# - https://medium.com/@syncwithdanish/bring-colors-to-your-data-frames-cfb7707259a6\n",
    "# "
   ]
  },
  {
   "cell_type": "code",
   "execution_count": 4,
   "metadata": {},
   "outputs": [],
   "source": [
    "def check_nulls(df):\n",
    "            \n",
    "    count_missing_values = df.isnull().sum()\n",
    "    percent_missing_values = df.isnull().sum()/ len(df)\n",
    "    missing_percent_df = pd.DataFrame({'column_name': df.columns, \n",
    "                                       'number_of_missing_values':count_missing_values,\n",
    "                                       'percent_missing': percent_missing_values})\n",
    "    \n",
    "    missing_percent_df.drop(['column_name'], axis=1, inplace=True)    \n",
    "    missing_percent_df.sort_values('percent_missing', inplace=True, ascending = False)\n",
    "    missing_percent_df['percent_missing'] = round(missing_percent_df['percent_missing']*100, 2)\n",
    "    result_df = missing_percent_df[missing_percent_df['percent_missing'] > 0]\n",
    "    \n",
    "    return result_df\n"
   ]
  },
  {
   "cell_type": "code",
   "execution_count": 19,
   "metadata": {},
   "outputs": [],
   "source": [
    "def pandas_style(df):\n",
    "    # df.style.hide_index()\n",
    "    df.style.highlight_max(color='green', axis=None)\n",
    "    df.style.highlight_min(color='red', axis=None)    \n",
    "    df.style.highlight_null(null_color='red')\n",
    "\n",
    "    # Adding background color gradient to values\n",
    "    # -------------------------\n",
    "    df.style.background_gradient(cmap='YlGnBu')    \n",
    "    df.style.background_gradient(subset=[\"B\", \"D\"])         # Adding to particular columns\n",
    "\n",
    "    # Adding text color gradient to values\n",
    "    # ------------------------------------\n",
    "    df.style.text_gradient(cmap='YlGnBu')\n",
    "\n",
    "    # Adding bars to values\n",
    "    # ---------------------\n",
    "    df.style.format(precision=2).bar(color=\"cyan\")\n",
    "\n",
    "    \n",
    "    df.style.format(precision=2).bar (align=\"mid\", color=\"red\", \"lightgreen\") set_properties(**{\"border\": \"1px solid black\"})\n",
    "\n"
   ]
  },
  {
   "cell_type": "code",
   "execution_count": 15,
   "metadata": {},
   "outputs": [],
   "source": [
    "df = pd.DataFrame({\n",
    "    \"A\": [0, -5, 12, -4, 3, 2, 1, 100, 9, np.nan],\n",
    "    \"B\": [12.24, 3.14, 2.71, -3.14, np.nan, np.nan, 4.4, 1.3, 10.25, 2.20],\n",
    "    \"C\": [0.5, 1.2, 0.3, 1.9, 2.2, 1.5, 6.5, 10.0, 6.5, 0],\n",
    "    \"D\": [2000, np.nan, 1000, 7000, 5000, 5000, np.nan, np.nan, 6500, 10000]\n",
    "})"
   ]
  },
  {
   "cell_type": "code",
   "execution_count": null,
   "metadata": {},
   "outputs": [],
   "source": []
  }
 ],
 "metadata": {
  "kernelspec": {
   "display_name": "gpu",
   "language": "python",
   "name": "python3"
  },
  "language_info": {
   "codemirror_mode": {
    "name": "ipython",
    "version": 3
   },
   "file_extension": ".py",
   "mimetype": "text/x-python",
   "name": "python",
   "nbconvert_exporter": "python",
   "pygments_lexer": "ipython3",
   "version": "3.9.18"
  }
 },
 "nbformat": 4,
 "nbformat_minor": 2
}
